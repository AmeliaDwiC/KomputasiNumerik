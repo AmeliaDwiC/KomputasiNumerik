{
  "nbformat": 4,
  "nbformat_minor": 0,
  "metadata": {
    "colab": {
      "provenance": []
    },
    "kernelspec": {
      "name": "python3",
      "display_name": "Python 3"
    },
    "language_info": {
      "name": "python"
    }
  },
  "cells": [
    {
      "cell_type": "code",
      "execution_count": 7,
      "metadata": {
        "id": "2JHVHadOtZcL"
      },
      "outputs": [],
      "source": [
        "import numpy as np #mengimpor modul NumPy"
      ]
    },
    {
      "cell_type": "code",
      "source": [
        "def bisection(f, a, b, tol):#mendefinisikan fungsi bisection yang mencari kar fungsi\n",
        "\n",
        " #mengecek apakah fungsi meiliki nilai dengan tanda yangsama di kedua batas\n",
        "    if np.sign(f(a)) == np.sign(f(b)):\n",
        "        raise Exception(\n",
        "         \"tidak bisa\")\n",
        "\n",
        "    m = (a + b)/2 #menghitung titik tengah\n",
        "\n",
        "#memeriksa apakah nila fungsi mendekati nol, jika ya maka m adalah akar dan fungsi mengembalikanya\n",
        "    if np.abs(f(m)) < tol:\n",
        "        return m\n",
        "    elif np.sign(f(a)) == np.sign(f(m)): #mempersempit interval berdasarkan tanda\n",
        "        return bisection(f, m, b, tol)\n",
        "    elif np.sign(f(b)) == np.sign(f(m)):\n",
        "        return bisection(f, a, m, tol)"
      ],
      "metadata": {
        "id": "5_LhaSoZurtu"
      },
      "execution_count": 8,
      "outputs": []
    },
    {
      "cell_type": "code",
      "source": [
        "f = lambda x: x**2 - 2 #fungsi yang akan di cari akarnya\n",
        "\n",
        "#panggilan fungsi bisection\n",
        "# r1 = my_bisection(f, 0, 2, 0.1)\n",
        "r1 =  bisection(f, 0, 2, 0.1)\n",
        "print(\"r1 =\", r1)\n",
        "# r01 = my_bisection(f, 0, 2, 0.01)\n",
        "r01 = bisection(f, 0, 2, 0.01)\n",
        "print(\"r01 =\", r01)\n",
        "\n",
        "#nilai fungsi di titik akar\n",
        "print(\"f(r1) =\", f(r1))\n",
        "print(\"f(r01) =\", f(r01))"
      ],
      "metadata": {
        "id": "ncQT2IKYvNBk",
        "outputId": "af385942-a917-4dc8-f82e-ed4cd9e618f1",
        "colab": {
          "base_uri": "https://localhost:8080/"
        }
      },
      "execution_count": 9,
      "outputs": [
        {
          "output_type": "stream",
          "name": "stdout",
          "text": [
            "r1 = 1.4375\n",
            "r01 = 1.4140625\n",
            "f(r1) = 0.06640625\n",
            "f(r01) = -0.00042724609375\n"
          ]
        }
      ]
    }
  ]
}