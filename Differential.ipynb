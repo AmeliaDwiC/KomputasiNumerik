{
  "nbformat": 4,
  "nbformat_minor": 0,
  "metadata": {
    "colab": {
      "provenance": [],
      "authorship_tag": "ABX9TyMu2UlrgfqiKK/Urnw7wfIw",
      "include_colab_link": true
    },
    "kernelspec": {
      "name": "python3",
      "display_name": "Python 3"
    },
    "language_info": {
      "name": "python"
    }
  },
  "cells": [
    {
      "cell_type": "markdown",
      "metadata": {
        "id": "view-in-github",
        "colab_type": "text"
      },
      "source": [
        "<a href=\"https://colab.research.google.com/github/AmeliaDwiC/KomputasiNumerik/blob/main/Differential.ipynb\" target=\"_parent\"><img src=\"https://colab.research.google.com/assets/colab-badge.svg\" alt=\"Open In Colab\"/></a>"
      ]
    },
    {
      "cell_type": "code",
      "execution_count": null,
      "metadata": {
        "id": "zc27AZ4EHtHK"
      },
      "outputs": [],
      "source": [
        "# Python3 program to implement Runge\n",
        "# Kutta method\n",
        "\n",
        "# A sample differential equation\n",
        "# \"dy/dx = (x - y)/2\"\n",
        "\n",
        "\n",
        "def dydx(x, y):\n",
        "\n",
        "\treturn (x + y - 2)\n",
        "\n",
        "# Finds value of y for a given x\n",
        "# using step size h\n",
        "# and initial value y0 at x0.\n",
        "\n",
        "\n",
        "def rungeKutta(x0, y0, x, h):\n",
        "\n",
        "\t# Count number of iterations\n",
        "\t# using step size or\n",
        "\t# step height h\n",
        "\tn = round((x - x0) / h)\n",
        "\n",
        "\t# Iterate for number of iterations\n",
        "\ty = y0\n",
        "\n",
        "\tfor i in range(1, n + 1):\n",
        "\n",
        "\t\t\t\t# Apply Runge Kutta Formulas\n",
        "\t\t# to find next value of y\n",
        "\t\tk1 = h * dydx(x0, y)\n",
        "\t\tk2 = h * dydx(x0 + 0.5 * h, y + 0.5 * k1)\n",
        "\n",
        "\t\t# Update next value of y\n",
        "\t\ty = y + (1.0 / 6.0) * (k1 + 2 * k2)\n",
        "\n",
        "\t\t# Update next value of x\n",
        "\t\tx0 = x0 + h\n",
        "\n",
        "\treturn y\n",
        "\n",
        "\n",
        "\n",
        "\tx0 = 0\n",
        "\ty = 1\n",
        "\tx = 2\n",
        "\th = 0.2\n",
        "\n",
        "\tprint(\"y(x) =\", rungeKutta(x0, y, x, h))\n"
      ]
    }
  ]
}